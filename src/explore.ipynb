{
    "cells": [
        {
            "cell_type": "markdown",
            "metadata": {},
            "source": [
                "# Explore here"
            ]
        },
        {
            "cell_type": "code",
            "execution_count": 3,
            "metadata": {},
            "outputs": [
                {
                    "name": "stdout",
                    "output_type": "stream",
                    "text": [
                        "<class 'pandas.core.frame.DataFrame'>\n",
                        "RangeIndex: 1338 entries, 0 to 1337\n",
                        "Data columns (total 7 columns):\n",
                        " #   Column    Non-Null Count  Dtype  \n",
                        "---  ------    --------------  -----  \n",
                        " 0   age       1338 non-null   int64  \n",
                        " 1   sex       1338 non-null   object \n",
                        " 2   bmi       1338 non-null   float64\n",
                        " 3   children  1338 non-null   int64  \n",
                        " 4   smoker    1338 non-null   object \n",
                        " 5   region    1338 non-null   object \n",
                        " 6   charges   1338 non-null   float64\n",
                        "dtypes: float64(2), int64(2), object(3)\n",
                        "memory usage: 73.3+ KB\n"
                    ]
                }
            ],
            "source": [
                "# Your code here\n",
                "import numpy as np\n",
                "import pandas as pd\n",
                "import matplotlib.pyplot as plt\n",
                "import seaborn as sns\n",
                "\n",
                "df_raw = pd.read_csv(\"https://raw.githubusercontent.com/4GeeksAcademy/linear-regression-project-tutorial/main/medical_insurance_cost.csv\")\n",
                "df_raw.info()"
            ]
        },
        {
            "cell_type": "code",
            "execution_count": 8,
            "metadata": {},
            "outputs": [
                {
                    "name": "stdout",
                    "output_type": "stream",
                    "text": [
                        "(1338, 7)\n"
                    ]
                },
                {
                    "data": {
                        "text/html": [
                            "<div>\n",
                            "<style scoped>\n",
                            "    .dataframe tbody tr th:only-of-type {\n",
                            "        vertical-align: middle;\n",
                            "    }\n",
                            "\n",
                            "    .dataframe tbody tr th {\n",
                            "        vertical-align: top;\n",
                            "    }\n",
                            "\n",
                            "    .dataframe thead th {\n",
                            "        text-align: right;\n",
                            "    }\n",
                            "</style>\n",
                            "<table border=\"1\" class=\"dataframe\">\n",
                            "  <thead>\n",
                            "    <tr style=\"text-align: right;\">\n",
                            "      <th></th>\n",
                            "      <th>age</th>\n",
                            "      <th>sex</th>\n",
                            "      <th>bmi</th>\n",
                            "      <th>children</th>\n",
                            "      <th>smoker</th>\n",
                            "      <th>region</th>\n",
                            "      <th>charges</th>\n",
                            "    </tr>\n",
                            "  </thead>\n",
                            "  <tbody>\n",
                            "    <tr>\n",
                            "      <th>1269</th>\n",
                            "      <td>45</td>\n",
                            "      <td>male</td>\n",
                            "      <td>27.500</td>\n",
                            "      <td>3</td>\n",
                            "      <td>no</td>\n",
                            "      <td>southwest</td>\n",
                            "      <td>8615.30000</td>\n",
                            "    </tr>\n",
                            "    <tr>\n",
                            "      <th>942</th>\n",
                            "      <td>18</td>\n",
                            "      <td>female</td>\n",
                            "      <td>40.185</td>\n",
                            "      <td>0</td>\n",
                            "      <td>no</td>\n",
                            "      <td>northeast</td>\n",
                            "      <td>2217.46915</td>\n",
                            "    </tr>\n",
                            "    <tr>\n",
                            "      <th>1240</th>\n",
                            "      <td>52</td>\n",
                            "      <td>male</td>\n",
                            "      <td>41.800</td>\n",
                            "      <td>2</td>\n",
                            "      <td>yes</td>\n",
                            "      <td>southeast</td>\n",
                            "      <td>47269.85400</td>\n",
                            "    </tr>\n",
                            "    <tr>\n",
                            "      <th>1229</th>\n",
                            "      <td>58</td>\n",
                            "      <td>male</td>\n",
                            "      <td>30.305</td>\n",
                            "      <td>0</td>\n",
                            "      <td>no</td>\n",
                            "      <td>northeast</td>\n",
                            "      <td>11938.25595</td>\n",
                            "    </tr>\n",
                            "    <tr>\n",
                            "      <th>272</th>\n",
                            "      <td>41</td>\n",
                            "      <td>male</td>\n",
                            "      <td>37.050</td>\n",
                            "      <td>2</td>\n",
                            "      <td>no</td>\n",
                            "      <td>northwest</td>\n",
                            "      <td>7265.70250</td>\n",
                            "    </tr>\n",
                            "    <tr>\n",
                            "      <th>738</th>\n",
                            "      <td>23</td>\n",
                            "      <td>male</td>\n",
                            "      <td>31.730</td>\n",
                            "      <td>3</td>\n",
                            "      <td>yes</td>\n",
                            "      <td>northeast</td>\n",
                            "      <td>36189.10170</td>\n",
                            "    </tr>\n",
                            "    <tr>\n",
                            "      <th>1105</th>\n",
                            "      <td>54</td>\n",
                            "      <td>female</td>\n",
                            "      <td>31.240</td>\n",
                            "      <td>0</td>\n",
                            "      <td>no</td>\n",
                            "      <td>southeast</td>\n",
                            "      <td>10338.93160</td>\n",
                            "    </tr>\n",
                            "    <tr>\n",
                            "      <th>1182</th>\n",
                            "      <td>25</td>\n",
                            "      <td>female</td>\n",
                            "      <td>30.300</td>\n",
                            "      <td>0</td>\n",
                            "      <td>no</td>\n",
                            "      <td>southwest</td>\n",
                            "      <td>2632.99200</td>\n",
                            "    </tr>\n",
                            "    <tr>\n",
                            "      <th>14</th>\n",
                            "      <td>27</td>\n",
                            "      <td>male</td>\n",
                            "      <td>42.130</td>\n",
                            "      <td>0</td>\n",
                            "      <td>yes</td>\n",
                            "      <td>southeast</td>\n",
                            "      <td>39611.75770</td>\n",
                            "    </tr>\n",
                            "    <tr>\n",
                            "      <th>596</th>\n",
                            "      <td>42</td>\n",
                            "      <td>female</td>\n",
                            "      <td>29.480</td>\n",
                            "      <td>2</td>\n",
                            "      <td>no</td>\n",
                            "      <td>southeast</td>\n",
                            "      <td>7640.30920</td>\n",
                            "    </tr>\n",
                            "  </tbody>\n",
                            "</table>\n",
                            "</div>"
                        ],
                        "text/plain": [
                            "      age     sex     bmi  children smoker     region      charges\n",
                            "1269   45    male  27.500         3     no  southwest   8615.30000\n",
                            "942    18  female  40.185         0     no  northeast   2217.46915\n",
                            "1240   52    male  41.800         2    yes  southeast  47269.85400\n",
                            "1229   58    male  30.305         0     no  northeast  11938.25595\n",
                            "272    41    male  37.050         2     no  northwest   7265.70250\n",
                            "738    23    male  31.730         3    yes  northeast  36189.10170\n",
                            "1105   54  female  31.240         0     no  southeast  10338.93160\n",
                            "1182   25  female  30.300         0     no  southwest   2632.99200\n",
                            "14     27    male  42.130         0    yes  southeast  39611.75770\n",
                            "596    42  female  29.480         2     no  southeast   7640.30920"
                        ]
                    },
                    "execution_count": 8,
                    "metadata": {},
                    "output_type": "execute_result"
                }
            ],
            "source": [
                "print(df_raw.shape)\n",
                "df_raw.sample(10,random_state=2025)"
            ]
        },
        {
            "cell_type": "code",
            "execution_count": 9,
            "metadata": {},
            "outputs": [
                {
                    "data": {
                        "text/html": [
                            "<div>\n",
                            "<style scoped>\n",
                            "    .dataframe tbody tr th:only-of-type {\n",
                            "        vertical-align: middle;\n",
                            "    }\n",
                            "\n",
                            "    .dataframe tbody tr th {\n",
                            "        vertical-align: top;\n",
                            "    }\n",
                            "\n",
                            "    .dataframe thead th {\n",
                            "        text-align: right;\n",
                            "    }\n",
                            "</style>\n",
                            "<table border=\"1\" class=\"dataframe\">\n",
                            "  <thead>\n",
                            "    <tr style=\"text-align: right;\">\n",
                            "      <th></th>\n",
                            "      <th>age</th>\n",
                            "      <th>sex</th>\n",
                            "      <th>bmi</th>\n",
                            "      <th>children</th>\n",
                            "      <th>smoker</th>\n",
                            "      <th>region</th>\n",
                            "      <th>charges</th>\n",
                            "    </tr>\n",
                            "  </thead>\n",
                            "  <tbody>\n",
                            "    <tr>\n",
                            "      <th>0</th>\n",
                            "      <td>19</td>\n",
                            "      <td>female</td>\n",
                            "      <td>27.900</td>\n",
                            "      <td>0</td>\n",
                            "      <td>yes</td>\n",
                            "      <td>southwest</td>\n",
                            "      <td>16884.92400</td>\n",
                            "    </tr>\n",
                            "    <tr>\n",
                            "      <th>1</th>\n",
                            "      <td>18</td>\n",
                            "      <td>male</td>\n",
                            "      <td>33.770</td>\n",
                            "      <td>1</td>\n",
                            "      <td>no</td>\n",
                            "      <td>southeast</td>\n",
                            "      <td>1725.55230</td>\n",
                            "    </tr>\n",
                            "    <tr>\n",
                            "      <th>2</th>\n",
                            "      <td>28</td>\n",
                            "      <td>male</td>\n",
                            "      <td>33.000</td>\n",
                            "      <td>3</td>\n",
                            "      <td>no</td>\n",
                            "      <td>southeast</td>\n",
                            "      <td>4449.46200</td>\n",
                            "    </tr>\n",
                            "    <tr>\n",
                            "      <th>3</th>\n",
                            "      <td>33</td>\n",
                            "      <td>male</td>\n",
                            "      <td>22.705</td>\n",
                            "      <td>0</td>\n",
                            "      <td>no</td>\n",
                            "      <td>northwest</td>\n",
                            "      <td>21984.47061</td>\n",
                            "    </tr>\n",
                            "    <tr>\n",
                            "      <th>4</th>\n",
                            "      <td>32</td>\n",
                            "      <td>male</td>\n",
                            "      <td>28.880</td>\n",
                            "      <td>0</td>\n",
                            "      <td>no</td>\n",
                            "      <td>northwest</td>\n",
                            "      <td>3866.85520</td>\n",
                            "    </tr>\n",
                            "    <tr>\n",
                            "      <th>...</th>\n",
                            "      <td>...</td>\n",
                            "      <td>...</td>\n",
                            "      <td>...</td>\n",
                            "      <td>...</td>\n",
                            "      <td>...</td>\n",
                            "      <td>...</td>\n",
                            "      <td>...</td>\n",
                            "    </tr>\n",
                            "    <tr>\n",
                            "      <th>1333</th>\n",
                            "      <td>50</td>\n",
                            "      <td>male</td>\n",
                            "      <td>30.970</td>\n",
                            "      <td>3</td>\n",
                            "      <td>no</td>\n",
                            "      <td>northwest</td>\n",
                            "      <td>10600.54830</td>\n",
                            "    </tr>\n",
                            "    <tr>\n",
                            "      <th>1334</th>\n",
                            "      <td>18</td>\n",
                            "      <td>female</td>\n",
                            "      <td>31.920</td>\n",
                            "      <td>0</td>\n",
                            "      <td>no</td>\n",
                            "      <td>northeast</td>\n",
                            "      <td>2205.98080</td>\n",
                            "    </tr>\n",
                            "    <tr>\n",
                            "      <th>1335</th>\n",
                            "      <td>18</td>\n",
                            "      <td>female</td>\n",
                            "      <td>36.850</td>\n",
                            "      <td>0</td>\n",
                            "      <td>no</td>\n",
                            "      <td>southeast</td>\n",
                            "      <td>1629.83350</td>\n",
                            "    </tr>\n",
                            "    <tr>\n",
                            "      <th>1336</th>\n",
                            "      <td>21</td>\n",
                            "      <td>female</td>\n",
                            "      <td>25.800</td>\n",
                            "      <td>0</td>\n",
                            "      <td>no</td>\n",
                            "      <td>southwest</td>\n",
                            "      <td>2007.94500</td>\n",
                            "    </tr>\n",
                            "    <tr>\n",
                            "      <th>1337</th>\n",
                            "      <td>61</td>\n",
                            "      <td>female</td>\n",
                            "      <td>29.070</td>\n",
                            "      <td>0</td>\n",
                            "      <td>yes</td>\n",
                            "      <td>northwest</td>\n",
                            "      <td>29141.36030</td>\n",
                            "    </tr>\n",
                            "  </tbody>\n",
                            "</table>\n",
                            "<p>1338 rows × 7 columns</p>\n",
                            "</div>"
                        ],
                        "text/plain": [
                            "      age     sex     bmi  children smoker     region      charges\n",
                            "0      19  female  27.900         0    yes  southwest  16884.92400\n",
                            "1      18    male  33.770         1     no  southeast   1725.55230\n",
                            "2      28    male  33.000         3     no  southeast   4449.46200\n",
                            "3      33    male  22.705         0     no  northwest  21984.47061\n",
                            "4      32    male  28.880         0     no  northwest   3866.85520\n",
                            "...   ...     ...     ...       ...    ...        ...          ...\n",
                            "1333   50    male  30.970         3     no  northwest  10600.54830\n",
                            "1334   18  female  31.920         0     no  northeast   2205.98080\n",
                            "1335   18  female  36.850         0     no  southeast   1629.83350\n",
                            "1336   21  female  25.800         0     no  southwest   2007.94500\n",
                            "1337   61  female  29.070         0    yes  northwest  29141.36030\n",
                            "\n",
                            "[1338 rows x 7 columns]"
                        ]
                    },
                    "execution_count": 9,
                    "metadata": {},
                    "output_type": "execute_result"
                }
            ],
            "source": [
                "df = df_raw.copy()\n",
                "df"
            ]
        },
        {
            "cell_type": "code",
            "execution_count": 10,
            "metadata": {},
            "outputs": [
                {
                    "name": "stdout",
                    "output_type": "stream",
                    "text": [
                        "age         0\n",
                        "sex         0\n",
                        "bmi         0\n",
                        "children    0\n",
                        "smoker      0\n",
                        "region      0\n",
                        "charges     0\n",
                        "dtype: int64\n"
                    ]
                }
            ],
            "source": [
                "print(df.isnull().sum())"
            ]
        },
        {
            "cell_type": "code",
            "execution_count": 14,
            "metadata": {},
            "outputs": [
                {
                    "data": {
                        "text/html": [
                            "<div>\n",
                            "<style scoped>\n",
                            "    .dataframe tbody tr th:only-of-type {\n",
                            "        vertical-align: middle;\n",
                            "    }\n",
                            "\n",
                            "    .dataframe tbody tr th {\n",
                            "        vertical-align: top;\n",
                            "    }\n",
                            "\n",
                            "    .dataframe thead th {\n",
                            "        text-align: right;\n",
                            "    }\n",
                            "</style>\n",
                            "<table border=\"1\" class=\"dataframe\">\n",
                            "  <thead>\n",
                            "    <tr style=\"text-align: right;\">\n",
                            "      <th></th>\n",
                            "      <th>age</th>\n",
                            "      <th>bmi</th>\n",
                            "      <th>children</th>\n",
                            "      <th>charges</th>\n",
                            "    </tr>\n",
                            "  </thead>\n",
                            "  <tbody>\n",
                            "    <tr>\n",
                            "      <th>count</th>\n",
                            "      <td>1338.000000</td>\n",
                            "      <td>1338.000000</td>\n",
                            "      <td>1338.000000</td>\n",
                            "      <td>1338.000000</td>\n",
                            "    </tr>\n",
                            "    <tr>\n",
                            "      <th>mean</th>\n",
                            "      <td>39.207025</td>\n",
                            "      <td>30.663397</td>\n",
                            "      <td>1.094918</td>\n",
                            "      <td>13270.422265</td>\n",
                            "    </tr>\n",
                            "    <tr>\n",
                            "      <th>std</th>\n",
                            "      <td>14.049960</td>\n",
                            "      <td>6.098187</td>\n",
                            "      <td>1.205493</td>\n",
                            "      <td>12110.011237</td>\n",
                            "    </tr>\n",
                            "    <tr>\n",
                            "      <th>min</th>\n",
                            "      <td>18.000000</td>\n",
                            "      <td>15.960000</td>\n",
                            "      <td>0.000000</td>\n",
                            "      <td>1121.873900</td>\n",
                            "    </tr>\n",
                            "    <tr>\n",
                            "      <th>25%</th>\n",
                            "      <td>27.000000</td>\n",
                            "      <td>26.296250</td>\n",
                            "      <td>0.000000</td>\n",
                            "      <td>4740.287150</td>\n",
                            "    </tr>\n",
                            "    <tr>\n",
                            "      <th>50%</th>\n",
                            "      <td>39.000000</td>\n",
                            "      <td>30.400000</td>\n",
                            "      <td>1.000000</td>\n",
                            "      <td>9382.033000</td>\n",
                            "    </tr>\n",
                            "    <tr>\n",
                            "      <th>75%</th>\n",
                            "      <td>51.000000</td>\n",
                            "      <td>34.693750</td>\n",
                            "      <td>2.000000</td>\n",
                            "      <td>16639.912515</td>\n",
                            "    </tr>\n",
                            "    <tr>\n",
                            "      <th>max</th>\n",
                            "      <td>64.000000</td>\n",
                            "      <td>53.130000</td>\n",
                            "      <td>5.000000</td>\n",
                            "      <td>63770.428010</td>\n",
                            "    </tr>\n",
                            "  </tbody>\n",
                            "</table>\n",
                            "</div>"
                        ],
                        "text/plain": [
                            "               age          bmi     children       charges\n",
                            "count  1338.000000  1338.000000  1338.000000   1338.000000\n",
                            "mean     39.207025    30.663397     1.094918  13270.422265\n",
                            "std      14.049960     6.098187     1.205493  12110.011237\n",
                            "min      18.000000    15.960000     0.000000   1121.873900\n",
                            "25%      27.000000    26.296250     0.000000   4740.287150\n",
                            "50%      39.000000    30.400000     1.000000   9382.033000\n",
                            "75%      51.000000    34.693750     2.000000  16639.912515\n",
                            "max      64.000000    53.130000     5.000000  63770.428010"
                        ]
                    },
                    "execution_count": 14,
                    "metadata": {},
                    "output_type": "execute_result"
                }
            ],
            "source": [
                "df.describe()"
            ]
        },
        {
            "cell_type": "code",
            "execution_count": 12,
            "metadata": {},
            "outputs": [
                {
                    "name": "stdout",
                    "output_type": "stream",
                    "text": [
                        "\n",
                        "Columna: sex\n",
                        "sex\n",
                        "male      676\n",
                        "female    662\n",
                        "Name: count, dtype: int64\n"
                    ]
                },
                {
                    "data": {
                        "image/png": "[encoded data removed]",
                        "text/plain": [
                            "<Figure size 640x480 with 1 Axes>"
                        ]
                    },
                    "metadata": {},
                    "output_type": "display_data"
                },
                {
                    "name": "stdout",
                    "output_type": "stream",
                    "text": [
                        "\n",
                        "Columna: smoker\n",
                        "smoker\n",
                        "no     1064\n",
                        "yes     274\n",
                        "Name: count, dtype: int64\n"
                    ]
                },
                {
                    "data": {
                        "image/png": "[encoded data removed]",
                        "text/plain": [
                            "<Figure size 640x480 with 1 Axes>"
                        ]
                    },
                    "metadata": {},
                    "output_type": "display_data"
                },
                {
                    "name": "stdout",
                    "output_type": "stream",
                    "text": [
                        "\n",
                        "Columna: region\n",
                        "region\n",
                        "southeast    364\n",
                        "southwest    325\n",
                        "northwest    325\n",
                        "northeast    324\n",
                        "Name: count, dtype: int64\n"
                    ]
                },
                {
                    "data": {
                        "image/png": "[encoded data removed]",
                        "text/plain": [
                            "<Figure size 640x480 with 1 Axes>"
                        ]
                    },
                    "metadata": {},
                    "output_type": "display_data"
                }
            ],
            "source": [
                "categorical_cols = df.select_dtypes(include='object').columns\n",
                "for col in categorical_cols:\n",
                "    print(f\"\\nColumna: {col}\")\n",
                "    print(df[col].value_counts())\n",
                "    sns.countplot(x=col, data=df)\n",
                "    plt.xticks(rotation=45)\n",
                "    plt.show()"
            ]
        },
        {
            "cell_type": "markdown",
            "metadata": {},
            "source": [
                "Dividimos los parametros mas importantes\n"
            ]
        },
        {
            "cell_type": "code",
            "execution_count": 13,
            "metadata": {},
            "outputs": [
                {
                    "data": {
                        "text/html": [
                            "<div>\n",
                            "<style scoped>\n",
                            "    .dataframe tbody tr th:only-of-type {\n",
                            "        vertical-align: middle;\n",
                            "    }\n",
                            "\n",
                            "    .dataframe tbody tr th {\n",
                            "        vertical-align: top;\n",
                            "    }\n",
                            "\n",
                            "    .dataframe thead th {\n",
                            "        text-align: right;\n",
                            "    }\n",
                            "</style>\n",
                            "<table border=\"1\" class=\"dataframe\">\n",
                            "  <thead>\n",
                            "    <tr style=\"text-align: right;\">\n",
                            "      <th></th>\n",
                            "      <th>count</th>\n",
                            "      <th>mean</th>\n",
                            "      <th>std</th>\n",
                            "      <th>min</th>\n",
                            "      <th>25%</th>\n",
                            "      <th>50%</th>\n",
                            "      <th>75%</th>\n",
                            "      <th>max</th>\n",
                            "    </tr>\n",
                            "  </thead>\n",
                            "  <tbody>\n",
                            "    <tr>\n",
                            "      <th>age</th>\n",
                            "      <td>1338.0</td>\n",
                            "      <td>39.207025</td>\n",
                            "      <td>14.049960</td>\n",
                            "      <td>18.0000</td>\n",
                            "      <td>27.00000</td>\n",
                            "      <td>39.000</td>\n",
                            "      <td>51.000000</td>\n",
                            "      <td>64.00000</td>\n",
                            "    </tr>\n",
                            "    <tr>\n",
                            "      <th>bmi</th>\n",
                            "      <td>1338.0</td>\n",
                            "      <td>30.663397</td>\n",
                            "      <td>6.098187</td>\n",
                            "      <td>15.9600</td>\n",
                            "      <td>26.29625</td>\n",
                            "      <td>30.400</td>\n",
                            "      <td>34.693750</td>\n",
                            "      <td>53.13000</td>\n",
                            "    </tr>\n",
                            "    <tr>\n",
                            "      <th>children</th>\n",
                            "      <td>1338.0</td>\n",
                            "      <td>1.094918</td>\n",
                            "      <td>1.205493</td>\n",
                            "      <td>0.0000</td>\n",
                            "      <td>0.00000</td>\n",
                            "      <td>1.000</td>\n",
                            "      <td>2.000000</td>\n",
                            "      <td>5.00000</td>\n",
                            "    </tr>\n",
                            "    <tr>\n",
                            "      <th>charges</th>\n",
                            "      <td>1338.0</td>\n",
                            "      <td>13270.422265</td>\n",
                            "      <td>12110.011237</td>\n",
                            "      <td>1121.8739</td>\n",
                            "      <td>4740.28715</td>\n",
                            "      <td>9382.033</td>\n",
                            "      <td>16639.912515</td>\n",
                            "      <td>63770.42801</td>\n",
                            "    </tr>\n",
                            "  </tbody>\n",
                            "</table>\n",
                            "</div>"
                        ],
                        "text/plain": [
                            "           count          mean           std        min         25%       50%  \\\n",
                            "age       1338.0     39.207025     14.049960    18.0000    27.00000    39.000   \n",
                            "bmi       1338.0     30.663397      6.098187    15.9600    26.29625    30.400   \n",
                            "children  1338.0      1.094918      1.205493     0.0000     0.00000     1.000   \n",
                            "charges   1338.0  13270.422265  12110.011237  1121.8739  4740.28715  9382.033   \n",
                            "\n",
                            "                   75%          max  \n",
                            "age          51.000000     64.00000  \n",
                            "bmi          34.693750     53.13000  \n",
                            "children      2.000000      5.00000  \n",
                            "charges   16639.912515  63770.42801  "
                        ]
                    },
                    "execution_count": 13,
                    "metadata": {},
                    "output_type": "execute_result"
                }
            ],
            "source": [
                "numerical_cols = df.select_dtypes(include=['int64', 'float64']).columns\n",
                "df[numerical_cols].describe().T"
            ]
        },
        {
            "cell_type": "code",
            "execution_count": 15,
            "metadata": {},
            "outputs": [
                {
                    "data": {
                        "image/png": "[encoded data removed]",
                        "text/plain": [
                            "<Figure size 640x480 with 2 Axes>"
                        ]
                    },
                    "metadata": {},
                    "output_type": "display_data"
                }
            ],
            "source": [
                "sns.heatmap(df[numerical_cols].corr(), annot=True, cmap=\"coolwarm\")\n",
                "plt.title(\"Correlación entre variables numéricas\")\n",
                "plt.show()"
            ]
        },
        {
            "cell_type": "markdown",
            "metadata": {},
            "source": [
                "## Machine Learning (Linear Regression)"
            ]
        },
        {
            "cell_type": "code",
            "execution_count": 16,
            "metadata": {},
            "outputs": [],
            "source": [
                "# One-hot encoding para variables categóricas\n",
                "df_encoded = pd.get_dummies(df, drop_first=True)\n",
                "\n",
                "# Separar variables predictoras y objetivo\n",
                "X = df_encoded.drop('charges', axis=1)\n",
                "y = df_encoded['charges']\n",
                "\n",
                "# Dividir en entrenamiento y prueba\n",
                "from sklearn.model_selection import train_test_split\n",
                "\n",
                "X_train, X_test, y_train, y_test = train_test_split(X, y, test_size=0.3, random_state=42)"
            ]
        },
        {
            "cell_type": "code",
            "execution_count": 22,
            "metadata": {},
            "outputs": [
                {
                    "name": "stdout",
                    "output_type": "stream",
                    "text": [
                        "R² Score: 0.7696118054369011\n",
                        "RMSE: 5812.100272258871\n"
                    ]
                }
            ],
            "source": [
                "from sklearn.linear_model import LinearRegression\n",
                "from sklearn.metrics import mean_squared_error, r2_score\n",
                "\n",
                "# Modelo base\n",
                "model = LinearRegression()\n",
                "model.fit(X_train, y_train)\n",
                "\n",
                "# Predicción\n",
                "y_pred = model.predict(X_test)\n",
                "\n",
                "# Evaluación\n",
                "print(\"R² Score:\", r2_score(y_test, y_pred))\n",
                "rmse = np.sqrt(mean_squared_error(y_test, y_pred))\n",
                "print(\"RMSE:\", rmse)"
            ]
        }
    ],
    "metadata": {
        "kernelspec": {
            "display_name": "Python 3",
            "language": "python",
            "name": "python3"
        },
        "language_info": {
            "codemirror_mode": {
                "name": "ipython",
                "version": 3
            },
            "file_extension": ".py",
            "mimetype": "text/x-python",
            "name": "python",
            "nbconvert_exporter": "python",
            "pygments_lexer": "ipython3",
            "version": "3.11.4"
        },
        "orig_nbformat": 4
    },
    "nbformat": 4,
    "nbformat_minor": 2
}
